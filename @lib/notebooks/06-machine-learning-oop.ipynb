{
 "cells": [
  {
   "cell_type": "markdown",
   "metadata": {},
   "source": [
    "### Loading file class"
   ]
  },
  {
   "cell_type": "code",
   "execution_count": 1,
   "metadata": {},
   "outputs": [],
   "source": [
    "import numpy as np\n",
    "import pandas as pd\n",
    "from sklearn.base import BaseEstimator, TransformerMixin\n",
    "from sklearn.model_selection import train_test_split, cross_val_score\n",
    "from sklearn.metrics import mean_absolute_error, r2_score, mean_absolute_error\n",
    "from sklearn.pipeline import Pipeline\n",
    "import joblib\n",
    "import logging\n",
    "from typing import List, Dict, Union, Optional\n",
    "from abc import ABC, abstractmethod\n",
    "\n",
    "class DataLoader:\n",
    "    \"\"\"handle data loading and initial preprocessing\"\"\"\n",
    "\n",
    "    def __init__(self, filepath: str):\n",
    "        self.filepath = filepath\n",
    "        self.data = None\n",
    "        self.logger = logging.getLogger(__name__)\n",
    "\n",
    "    def load_data(self) -> pd.DataFrame:\n",
    "        \"\"\"Load data from file\"\"\"\n",
    "        try:\n",
    "            if self.filepath.endswith('.csv'):\n",
    "                self.data = pd.read_csv(self.filepath)\n",
    "            elif self.filepath.endswith('.xlsx'):\n",
    "                self.data = pd.read_excel(self.filepath)\n",
    "            else:\n",
    "                raise ValueError(f\"Unsupported file format: {self.filepath}\")\n",
    "            self.logger.info(f\"Data loaded sucessfully. Shape: {self.data.shape}\")\n",
    "            return self.data\n",
    "        except Exception as e:\n",
    "            self.logger.error(f\"Error loading data: {str(e)}\")\n",
    "            raise \n",
    "    \n",
    "    def get_feature_info(self) -> Dict:\n",
    "        \"\"\"Get basic information about feature\"\"\"\n",
    "        if self.data is None:\n",
    "            raise ValueError(\"Data not loaded. Call load_data() first.\")\n",
    "        return {\n",
    "            'numerical': self.data.select_dtypes(include=['int64', 'float64']).columns.tolist(),\n",
    "            'categorical': self.data.select_dtypes(include=['object','category','O']).columns.tolist(),\n",
    "            'datetime': self.data.select_dtypes(include=['datetime64']).columns.tolist(),\n",
    "            'missing_percentages': (self.data.isnull().sum() / len(self.data)*100).to_dict()\n",
    "        }"
   ]
  },
  {
   "cell_type": "markdown",
   "metadata": {},
   "source": [
    "### Feature transformer"
   ]
  },
  {
   "cell_type": "code",
   "execution_count": null,
   "metadata": {},
   "outputs": [],
   "source": [
    "class BaseFeatureTransformer(ABC, BaseEstimator, TransformerMixin):\n",
    "    \"\"\"Abstract b ase class for feature transformer\"\"\"\n",
    "\n",
    "    @abstractmethod\n",
    "    def transform(self, X: pd.DataFrame, y=None):\n",
    "        \"\"\"Transform the data\"\"\"\n",
    "        pass\n",
    "\n",
    "    def fit_transform(self, X: pd.DataFrame, y = None):\n",
    "        return self.fit(X, y).transform(X)\n"
   ]
  }
 ],
 "metadata": {
  "kernelspec": {
   "display_name": "base",
   "language": "python",
   "name": "python3"
  },
  "language_info": {
   "codemirror_mode": {
    "name": "ipython",
    "version": 3
   },
   "file_extension": ".py",
   "mimetype": "text/x-python",
   "name": "python",
   "nbconvert_exporter": "python",
   "pygments_lexer": "ipython3",
   "version": "3.10.9"
  }
 },
 "nbformat": 4,
 "nbformat_minor": 2
}
